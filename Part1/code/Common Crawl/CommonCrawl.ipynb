{
 "cells": [
  {
   "cell_type": "code",
   "execution_count": 12,
   "metadata": {},
   "outputs": [],
   "source": [
    "import warc\n",
    "import langdetect\n",
    "# try:\n",
    "#     import builtins as __builtin__\n",
    "# except ImportError:\n",
    "#     import __builtin__ as builtins\n",
    "from langdetect import detect_langs\n",
    "from langdetect import detect  "
   ]
  },
  {
   "cell_type": "code",
   "execution_count": 13,
   "metadata": {},
   "outputs": [],
   "source": [
    "def lang_Data(block):\n",
    "    commonCrawl_file = open(\"common_crawl.txt\", \"a\")\n",
    "    query_list=[\"baseball\",\"golf\",\"basketball\",\"tennis\",\"hockey\",\"soccer\"]\n",
    "    lang_block=detect_langs(block)\n",
    "    \n",
    "    for i in lang_block:\n",
    "        if i.lang =='en':\n",
    "            for j in query_list:\n",
    "                if j in block:\n",
    "                    commonCrawl_file.write(block + \"\\n\" + \"\\n\")\n",
    "    commonCrawl_file.close()\n",
    "\n",
    "\n",
    "\n",
    "\n"
   ]
  },
  {
   "cell_type": "code",
   "execution_count": 15,
   "metadata": {},
   "outputs": [],
   "source": [
    "file = warc.open(\"CC-MAIN-20190318132220-20190318153611-00020.warc.wet\")\n",
    "for record in file:\n",
    "        try:\n",
    "            block = record.payload.read().decode('utf-8')\n",
    "            lang_Data(block)\n",
    "        except Exception:\n",
    "            continue\n"
   ]
  },
  {
   "cell_type": "code",
   "execution_count": 6,
   "metadata": {},
   "outputs": [
    {
     "name": "stdout",
     "output_type": "stream",
     "text": [
      "45410\n",
      "http://0-100.hotnews.ro/2013/11/18/noul-mercedes-benz-clasa-c-deconspirat-inainte-de-lansarea-din-2014/\n"
     ]
    }
   ],
   "source": [
    "# list_url=[]\n",
    "# file = warc.open(\"CC-MAIN-20190318132220-20190318153611-00020.warc.wet\")\n",
    "# for record in file:\n",
    "#     #print record['WARC-Target-URI'], record['Content-Length']\n",
    "#     url = record.header.get('warc-target-uri', None)  \n",
    "#     if not url:\n",
    "#         continue\n",
    "#     else:\n",
    "#         list_url.append(url)\n",
    "#         #print(url)\n",
    "# print(len(list_url))\n",
    "\n",
    "# print(list_url[0])\n"
   ]
  },
  {
   "cell_type": "code",
   "execution_count": 7,
   "metadata": {},
   "outputs": [],
   "source": [
    "# import requests\n",
    "\n",
    "# page=requests.get(list_url[0])"
   ]
  },
  {
   "cell_type": "code",
   "execution_count": null,
   "metadata": {},
   "outputs": [],
   "source": []
  }
 ],
 "metadata": {
  "kernelspec": {
   "display_name": "Python 2",
   "language": "python",
   "name": "python2"
  },
  "language_info": {
   "codemirror_mode": {
    "name": "ipython",
    "version": 2
   },
   "file_extension": ".py",
   "mimetype": "text/x-python",
   "name": "python",
   "nbconvert_exporter": "python",
   "pygments_lexer": "ipython2",
   "version": "2.7.16"
  }
 },
 "nbformat": 4,
 "nbformat_minor": 2
}
