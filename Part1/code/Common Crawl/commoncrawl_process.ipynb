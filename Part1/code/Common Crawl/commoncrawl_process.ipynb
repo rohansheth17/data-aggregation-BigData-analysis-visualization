{
 "cells": [
  {
   "cell_type": "code",
   "execution_count": 1,
   "metadata": {},
   "outputs": [
    {
     "name": "stderr",
     "output_type": "stream",
     "text": [
      "[nltk_data] Downloading package stopwords to\n",
      "[nltk_data]     C:\\Users\\rohan\\AppData\\Roaming\\nltk_data...\n",
      "[nltk_data]   Package stopwords is already up-to-date!\n"
     ]
    },
    {
     "name": "stdout",
     "output_type": "stream",
     "text": [
      "['i', 'me', 'my', 'myself', 'we', 'our', 'ours', 'ourselves', 'you', \"you're\", \"you've\", \"you'll\", \"you'd\", 'your', 'yours', 'yourself', 'yourselves', 'he', 'him', 'his', 'himself', 'she', \"she's\", 'her', 'hers', 'herself', 'it', \"it's\", 'its', 'itself', 'they', 'them', 'their', 'theirs', 'themselves', 'what', 'which', 'who', 'whom', 'this', 'that', \"that'll\", 'these', 'those', 'am', 'is', 'are', 'was', 'were', 'be', 'been', 'being', 'have', 'has', 'had', 'having', 'do', 'does', 'did', 'doing', 'a', 'an', 'the', 'and', 'but', 'if', 'or', 'because', 'as', 'until', 'while', 'of', 'at', 'by', 'for', 'with', 'about', 'against', 'between', 'into', 'through', 'during', 'before', 'after', 'above', 'below', 'to', 'from', 'up', 'down', 'in', 'out', 'on', 'off', 'over', 'under', 'again', 'further', 'then', 'once', 'here', 'there', 'when', 'where', 'why', 'how', 'all', 'any', 'both', 'each', 'few', 'more', 'most', 'other', 'some', 'such', 'no', 'nor', 'not', 'only', 'own', 'same', 'so', 'than', 'too', 'very', 's', 't', 'can', 'will', 'just', 'don', \"don't\", 'should', \"should've\", 'now', 'd', 'll', 'm', 'o', 're', 've', 'y', 'ain', 'aren', \"aren't\", 'couldn', \"couldn't\", 'didn', \"didn't\", 'doesn', \"doesn't\", 'hadn', \"hadn't\", 'hasn', \"hasn't\", 'haven', \"haven't\", 'isn', \"isn't\", 'ma', 'mightn', \"mightn't\", 'mustn', \"mustn't\", 'needn', \"needn't\", 'shan', \"shan't\", 'shouldn', \"shouldn't\", 'wasn', \"wasn't\", 'weren', \"weren't\", 'won', \"won't\", 'wouldn', \"wouldn't\"]\n",
      "showing info https://raw.githubusercontent.com/nltk/nltk_data/gh-pages/index.xml\n"
     ]
    },
    {
     "data": {
      "text/plain": [
       "True"
      ]
     },
     "execution_count": 1,
     "metadata": {},
     "output_type": "execute_result"
    }
   ],
   "source": [
    "import nltk\n",
    "from nltk.corpus import stopwords\n",
    "nltk.download('stopwords')\n",
    "stoplist = stopwords.words('english')\n",
    "print(stoplist)\n",
    "\n",
    "additional_stopwords = \"\"\"advertis could would becaus go new one said hi wa thi two get ha back support a b c d e f g h i j k l m n o p q r s t u v w x y z A B C D E F G H I J K L M N O P Q R S T U V W X Y Z\"\"\"\n",
    "stoplist += additional_stopwords.split()\n",
    "\n",
    "nltk.download()\n"
   ]
  },
  {
   "cell_type": "code",
   "execution_count": 2,
   "metadata": {},
   "outputs": [],
   "source": [
    "from nltk.stem import PorterStemmer\n",
    "from nltk.stem import LancasterStemmer\n",
    "from nltk.tokenize import sent_tokenize, word_tokenize\n",
    "\n",
    "porter = PorterStemmer()\n",
    "lancaster=LancasterStemmer()"
   ]
  },
  {
   "cell_type": "code",
   "execution_count": 3,
   "metadata": {},
   "outputs": [],
   "source": [
    "def stemSentence(sentence):\n",
    "    token_words=word_tokenize(sentence)\n",
    "    token_words\n",
    "    stem_sentence=[]\n",
    "    for word in token_words:\n",
    "        stem_sentence.append(porter.stem(word))\n",
    "        stem_sentence.append(\" \")\n",
    "    return \"\".join(stem_sentence)\n",
    "\n",
    "import re"
   ]
  },
  {
   "cell_type": "code",
   "execution_count": 7,
   "metadata": {},
   "outputs": [],
   "source": [
    "file = open(\"commoncrawlFinal1.txt\",\"r\",encoding=\"utf-8\") \n",
    "file.read()\n",
    "file = open(\"commoncrawlFinal1.txt\",\"r\",encoding=\"utf-8\") \n",
    "my_lines_list=file.readlines()\n",
    "file.close()    \n",
    "file = open(\"commoncrawlFinal1.txt\",\"w\",encoding=\"utf-8\") \n",
    "for line in my_lines_list:\n",
    "    stem_sentence=stemSentence(line)\n",
    "    file.write(stem_sentence+'\\n')  \n",
    "file = open('commoncrawlFinal1.txt',\"r\",encoding=\"utf-8\")\n",
    "lines_list=file.readlines()\n",
    "file.close()   \n",
    "life = open('commoncrawlFinal1write.txt',\"w\",encoding=\"utf-8\")\n",
    "life.write(\" \") \n",
    "for line in lines_list: \n",
    "    line=line.lower()\n",
    "    new_str = re.sub('[^a-zA-Z]', ' ', line)\n",
    "    life.write(new_str+\"\\n\")\n",
    "life.close()\n",
    "file = open('commoncrawlFinal1write.txt',encoding=\"utf-8\")\n",
    "my_lines_list=file.readlines()\n",
    "file.close()\n",
    "file = open('processed_cc1.txt',\"a\",encoding=\"utf-8\")\n",
    "for line in my_lines_list:\n",
    "    fil = open('d.txt', 'w',encoding=\"utf-8\")\n",
    "    fil.write(line)\n",
    "    fil.close()\n",
    "    string = open('d.txt', 'r',encoding=\"utf-8\").read()\n",
    "    clean = [word for word in string.split() if not word in stoplist]\n",
    "    for m in range(len(clean)):\n",
    "        file.write(clean[m]+\" \")\n",
    "    file.write(\"\\n\")   \n",
    "file.close()"
   ]
  }
 ],
 "metadata": {
  "kernelspec": {
   "display_name": "Python 3",
   "language": "python",
   "name": "python3"
  },
  "language_info": {
   "codemirror_mode": {
    "name": "ipython",
    "version": 3
   },
   "file_extension": ".py",
   "mimetype": "text/x-python",
   "name": "python",
   "nbconvert_exporter": "python",
   "pygments_lexer": "ipython3",
   "version": "3.6.8"
  }
 },
 "nbformat": 4,
 "nbformat_minor": 2
}
