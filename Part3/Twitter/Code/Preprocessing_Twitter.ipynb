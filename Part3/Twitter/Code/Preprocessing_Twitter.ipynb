{
 "cells": [
  {
   "cell_type": "code",
   "execution_count": 64,
   "metadata": {},
   "outputs": [],
   "source": [
    "import csv\n",
    "import nltk\n",
    "import re\n",
    "\n",
    "from nltk.stem import PorterStemmer\n",
    "from nltk.stem import LancasterStemmer\n",
    "from nltk.tokenize import sent_tokenize, word_tokenize\n",
    "from nltk.corpus import stopwords\n",
    "\n",
    "import nltk\n",
    "#nltk.download('wordnet')\n",
    "#from nltk.stem import WordNetLemmatizer\n",
    "\n",
    "stoplist = stopwords.words('english')"
   ]
  },
  {
   "cell_type": "code",
   "execution_count": 65,
   "metadata": {},
   "outputs": [],
   "source": [
    "\n",
    "inputfile = csv.reader(open('C:\\\\Users\\\\aksha\\\\Documents\\\\Sem2\\\\DIC\\\\Lab2\\\\twitterData\\\\tennis\\\\tennisDEMO2.csv','r'))\n",
    "outputfile = open('C:\\\\Users\\\\aksha\\\\Documents\\\\Sem2\\\\DIC\\\\Lab2\\\\twitterData\\\\tennis\\\\tennis_Clean2.txt','w')\n"
   ]
  },
  {
   "cell_type": "code",
   "execution_count": null,
   "metadata": {},
   "outputs": [],
   "source": []
  },
  {
   "cell_type": "code",
   "execution_count": 66,
   "metadata": {},
   "outputs": [],
   "source": [
    "for row in inputfile:\n",
    "    place = row[1]\n",
    "    place = place.lower()\n",
    "    new_str = re.sub(r\"http\\S+\", \"\", place)\n",
    "    new_str = ' '.join(re.sub(\"(@[A-Za-z0-9]+)|([^0-9A-Za-z \\t])|(\\w+:\\/\\/\\S+)\",\" \",new_str).split())\n",
    "    tweet1 = new_str.encode('ascii', 'ignore').decode('ascii')\n",
    "    \n",
    "    tweet2 = re.sub('[^a-zA-Z]', ' ', tweet1)\n",
    "    tweet3 = re.sub(r'\\s+[a-zA-Z]\\s+', \" \", tweet2)\n",
    "    \n",
    "    # Trial\n",
    "    stop_words = set(stopwords.words('english')) \n",
    "    #additional_stopwords = \"\"\"A\"\"\"\n",
    "    #stop_words += additional_stopwords.split()\n",
    "    \n",
    "    ps = PorterStemmer()\n",
    "    words = tweet3.split()\n",
    "    for r in words: \n",
    "        if not r in stop_words and len(r) != 1: \n",
    "            r = ps.stem(r)\n",
    "            outputfile.write(\" \" + r)\n",
    "    outputfile.write(\"\\n\\n\")\n",
    "\n",
    "outputfile.close()\n",
    "        \n"
   ]
  },
  {
   "cell_type": "code",
   "execution_count": null,
   "metadata": {},
   "outputs": [],
   "source": []
  },
  {
   "cell_type": "code",
   "execution_count": null,
   "metadata": {},
   "outputs": [],
   "source": []
  }
 ],
 "metadata": {
  "kernelspec": {
   "display_name": "Python 3",
   "language": "python",
   "name": "python3"
  },
  "language_info": {
   "codemirror_mode": {
    "name": "ipython",
    "version": 3
   },
   "file_extension": ".py",
   "mimetype": "text/x-python",
   "name": "python",
   "nbconvert_exporter": "python",
   "pygments_lexer": "ipython3",
   "version": "3.6.5"
  }
 },
 "nbformat": 4,
 "nbformat_minor": 2
}
